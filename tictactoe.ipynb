{
 "cells": [
  {
   "cell_type": "code",
   "execution_count": 3,
   "metadata": {},
   "outputs": [],
   "source": [
    "## GLOBAL VARIABLES\n",
    "field_size = 5               # NxN, always square field\n",
    "user_record = [[], []]       # list of lists with the turn record\n",
    "win_line = []                # list of lists, win conditions that are still possible\n",
    "field_pos_label = []         # position label for whole play field\n",
    "available_pos_label = []     # position label for empty spot\n",
    "game_over = False            # flag for the end of the game"
   ]
  },
  {
   "cell_type": "code",
   "execution_count": 4,
   "metadata": {},
   "outputs": [
    {
     "name": "stdout",
     "output_type": "stream",
     "text": [
      "╔═══════════════════╗\n",
      "║ 1 ║ 2 ║ 3 ║ 4 ║ 5 ║\n",
      "╠═══╬═══╬═══╬═══╬═══╣\n",
      "║ 6 ║ 7 ║ 8 ║ 9 ║ 10║\n",
      "╠═══╬═══╬═══╬═══╬═══╣\n",
      "║ 11║ 12║ 13║ 14║ 15║\n",
      "╠═══╬═══╬═══╬═══╬═══╣\n",
      "║ 16║ 17║ 18║ 19║ 20║\n",
      "╠═══╬═══╬═══╬═══╬═══╣\n",
      "║ 21║ 22║ 23║ 24║ 25║\n",
      "╚═══════════════════╝\n"
     ]
    }
   ],
   "source": [
    "def build_empty_field(field_size):\n",
    "    \"\"\"Initialize the play field - visual only\n",
    "      Parameters: \n",
    "      - field_size - the globally defined size of the field\"\"\"\n",
    "    row_up = \"╔═══\" + \"════\" * (field_size - 2) + \"════╗\" + \"\\n\" \n",
    "    row_inter = \"╠═══\" + \"╬═══\" * (field_size - 2) + \"╬═══╣\" + \"\\n\"\n",
    "    row_bott = \"╚═══\" + \"════\" * (field_size - 2) + \"════╝\"\n",
    "    numbers = [str(n).center(3, ' ') for n in range(1, field_size**2+1)]\n",
    "    numbers = [numbers[i*field_size:(i+1)*field_size] for i in range(field_size)]\n",
    "    rows_w_numbers = [['║'+number for number in row] for row in numbers]\n",
    "    rows_w_numbers = [''.join(row)+'║\\n' for row in rows_w_numbers] \n",
    "\n",
    "    field = row_up \n",
    "    for row_w_numbers in rows_w_numbers:\n",
    "        field += row_w_numbers\n",
    "        field += row_inter\n",
    "    field = field.removesuffix(row_inter) # removing the last one\n",
    "    field += row_bott\n",
    "    return field\n",
    "\n",
    "# Demo\n",
    "field = build_empty_field(field_size)\n",
    "print(field)"
   ]
  },
  {
   "cell_type": "code",
   "execution_count": 5,
   "metadata": {},
   "outputs": [
    {
     "data": {
      "text/plain": [
       "(4, 2)"
      ]
     },
     "execution_count": 5,
     "metadata": {},
     "output_type": "execute_result"
    }
   ],
   "source": [
    "def convert_positions(n, field_size):\n",
    "    \"\"\"Converts cell numbers into the indicies of the \n",
    "    elements in the `field` string to change.\n",
    "\n",
    "    The string will be split into rows and reassembled. The row \n",
    "    where the number goes to should be split into the list of \n",
    "    individual symbols. \n",
    "    Parameters: \n",
    "    - n: user input (the cell number)\n",
    "    - field_size (str) - globally defined field size\"\"\"\n",
    "    \n",
    "    row =  (n-1) // (field_size) # 0 based\n",
    "    col = (n-1) % (field_size)  # 0 based\n",
    "    return(row, col)\n",
    "\n",
    "# Demo\n",
    "row, col = convert_positions(23, field_size)\n",
    "row, col"
   ]
  },
  {
   "cell_type": "code",
   "execution_count": 23,
   "metadata": {},
   "outputs": [],
   "source": [
    "def insert_symbol_into_field(field, symbol, row, col):\n",
    "    _ = field.splitlines()\n",
    "    new_row = _[row*2+1].split('║')\n",
    "    new_row[col+1]  = f' {symbol} '\n",
    "    new_row = '║'.join(new_row)\n",
    "    _[row*2+1] = new_row\n",
    "    # print('\\n'.join(_))\n",
    "    field = '\\n'.join(_)\n",
    "    return field"
   ]
  },
  {
   "cell_type": "code",
   "execution_count": 24,
   "metadata": {},
   "outputs": [],
   "source": [
    "def write_field(field, turn_history):\n",
    "    \"\"\"Populates the field (string) with the \n",
    "    Xs and Os from the turn record. \n",
    "    This function is responsible for graphics only!\n",
    "    \n",
    "    Parameters:\n",
    "    - field (str) - the field \n",
    "    - turn_history - the turn log \n",
    "    \"\"\"\n",
    "    for pos_X in turn_history[0]:\n",
    "        row, col = convert_positions(pos_X, field_size)\n",
    "        field = insert_symbol_into_field(field, 'X', row, col)\n",
    "    # turn history of \"O\"s is shorter by one every second turn, \n",
    "    # hence can not use `zip`\n",
    "    for pos_O in turn_history[1]:\n",
    "        row, col = convert_positions(pos_O, field_size)\n",
    "        field = insert_symbol_into_field(field, 'O', row, col)\n",
    "    return field"
   ]
  },
  {
   "cell_type": "code",
   "execution_count": 20,
   "metadata": {},
   "outputs": [],
   "source": [
    "def init_field(field_size_n, user_history=None):\n",
    "    \"\"\" Initialize the play field - logic only\n",
    "\n",
    "    Parameters:\n",
    "        field_size_n (int): a general play field nxn\n",
    "        user_history (list): list of two user position history:\n",
    "              [[usr1_pos1, usr2_pos2, usr1_pos3], [usr2_pos1, usr2_pos2]]].\n",
    "              Defaults to None.\n",
    "    Returns: \n",
    "        - win_line - all possible win conditions\n",
    "        - available_pos_label - list of available positions\n",
    "    \"\"\"\n",
    "    field_size = field_size_n\n",
    "    field_pos_label = list(range(1, 1+field_size**2))\n",
    "    if user_history == None:\n",
    "        user_record = [[], []]\n",
    "        available_pos_label = field_pos_label\n",
    "    else:\n",
    "        user_record = user_history\n",
    "        ## check consistence\n",
    "        if len(user_record[0]) != len(set(user_record[0])):\n",
    "               print(\"warning: duplicate turns of Xs\")\n",
    "               user_record[0] = set(user_record[0]) # warning: the history is reshuffled\n",
    "        if len(user_record[1]) != len(set(user_record[1])):\n",
    "               print(\"warning: duplicate turns of Os\")\n",
    "               user_record[1] = set(user_record[1]) # warning: the history is reshuffled\n",
    "        available_pos_label = list(set(field_pos_label)\n",
    "                                   - set(user_record[0])\n",
    "                                   - set(user_record[1]))\n",
    "    win_line = []\n",
    "    tmp = list(range(field_size))\n",
    "    for i in range(field_size):\n",
    "        win_line.append([1+x+i*field_size for x in tmp])\n",
    "        win_line.append([1+x*field_size+i for x in tmp])\n",
    "    win_line.append([1+x*field_size+x for x in tmp])\n",
    "    win_line.append([(1+x)*field_size-x for x in tmp])\n",
    "    # return user_record, win_line, available_pos_label\n",
    "    return win_line, available_pos_label"
   ]
  },
  {
   "cell_type": "code",
   "execution_count": 39,
   "metadata": {},
   "outputs": [],
   "source": [
    "## global\n",
    "if len(user_record[0]) == len(user_record[1]):\n",
    "    whose_turn_is_it = 1\n",
    "else:\n",
    "    whose_turn_is_it = 0\n",
    "\n",
    "def make_turn():\n",
    "    \"\"\"Takes a cell number as an input, validates it \n",
    "    and removes the newly occupied cell from the available position list\n",
    "    Modifies global variables hence does not return anything. \n",
    "    \"\"\"\n",
    "    # avaiable_pos_label = set(field_pos_label) - set(user_record[0]) \\\n",
    "    #                     - set(user_record[1])\n",
    "    turn_valid = False\n",
    "    while not turn_valid:\n",
    "        if whose_turn_is_it:\n",
    "        # means it is the first player's turn\n",
    "            turn = int(input(\"Player-1 (X): Please choose one available position label\"))\n",
    "            if turn in available_pos_label:\n",
    "                 turn_valid = True\n",
    "                 user_record[0].append(turn)\n",
    "                 available_pos_label.remove(turn)\n",
    "        else:\n",
    "        # means it is the second player's turn\n",
    "            turn = int(input(\"Player-2 (O): Please choose one available position label\"))\n",
    "            if turn in available_pos_label:\n",
    "                 turn_valid = True\n",
    "                 user_record[1].append(turn)\n",
    "                 available_pos_label.remove(turn)"
   ]
  },
  {
   "cell_type": "code",
   "execution_count": 61,
   "metadata": {},
   "outputs": [],
   "source": [
    "def is_game_over():\n",
    "    for condition in win_line:\n",
    "        if set(condition).issubset(set(user_record[0])):\n",
    "            print('X has won!')\n",
    "            return True\n",
    "        elif set(condition).issubset(set(user_record[1])):\n",
    "            print('O has won!')\n",
    "            return True\n",
    "    if len(available_pos_label) == 0:\n",
    "        print('There are no more free cells! It is a tie!')\n",
    "        return True\n",
    "    else:\n",
    "        return False"
   ]
  },
  {
   "cell_type": "markdown",
   "metadata": {},
   "source": [
    "## Assemblying the workflow"
   ]
  },
  {
   "cell_type": "code",
   "execution_count": 68,
   "metadata": {},
   "outputs": [
    {
     "name": "stdout",
     "output_type": "stream",
     "text": [
      "╔═══════════╗\n",
      "║ 1 ║ 2 ║ 3 ║\n",
      "╠═══╬═══╬═══╣\n",
      "║ 4 ║ 5 ║ 6 ║\n",
      "╠═══╬═══╬═══╣\n",
      "║ 7 ║ 8 ║ 9 ║\n",
      "╚═══════════╝\n",
      "╔═══════════╗\n",
      "║ 1 ║ 2 ║ 3 ║\n",
      "╠═══╬═══╬═══╣\n",
      "║ 4 ║ X ║ 6 ║\n",
      "╠═══╬═══╬═══╣\n",
      "║ 7 ║ 8 ║ 9 ║\n",
      "╚═══════════╝\n",
      "╔═══════════╗\n",
      "║ O ║ 2 ║ 3 ║\n",
      "╠═══╬═══╬═══╣\n",
      "║ 4 ║ X ║ 6 ║\n",
      "╠═══╬═══╬═══╣\n",
      "║ 7 ║ 8 ║ 9 ║\n",
      "╚═══════════╝\n",
      "╔═══════════╗\n",
      "║ O ║ 2 ║ 3 ║\n",
      "╠═══╬═══╬═══╣\n",
      "║ 4 ║ X ║ 6 ║\n",
      "╠═══╬═══╬═══╣\n",
      "║ 7 ║ 8 ║ X ║\n",
      "╚═══════════╝\n",
      "╔═══════════╗\n",
      "║ O ║ 2 ║ 3 ║\n",
      "╠═══╬═══╬═══╣\n",
      "║ 4 ║ X ║ 6 ║\n",
      "╠═══╬═══╬═══╣\n",
      "║ O ║ 8 ║ X ║\n",
      "╚═══════════╝\n",
      "╔═══════════╗\n",
      "║ O ║ 2 ║ X ║\n",
      "╠═══╬═══╬═══╣\n",
      "║ 4 ║ X ║ 6 ║\n",
      "╠═══╬═══╬═══╣\n",
      "║ O ║ 8 ║ X ║\n",
      "╚═══════════╝\n",
      "O has won!\n",
      "Game over\n"
     ]
    }
   ],
   "source": [
    "## Getting everything together\n",
    "\n",
    "field_size = 3               # NxN, always square field\n",
    "user_record = [[], []]       # list of lists with the turn record\n",
    "win_line = []                # list of lists, win conditions that are still possible\n",
    "field_pos_label = []         # position label for whole play field\n",
    "available_pos_label = []     # position label for empty spot\n",
    "game_over = False\n",
    "\n",
    "## game starts\n",
    "field = build_empty_field(field_size)\n",
    "win_line, available_pos_label = init_field(field_size, user_record)\n",
    "\n",
    "while not game_over:\n",
    "    print(field)\n",
    "    if len(user_record[0]) == len(user_record[1]):\n",
    "        whose_turn_is_it = 1\n",
    "    else:\n",
    "        whose_turn_is_it = 0\n",
    "    make_turn(available_pos_label)\n",
    "    field = write_field(field, user_record)\n",
    "    game_over = is_game_over()\n",
    "    \n",
    "print('Game over')"
   ]
  },
  {
   "cell_type": "code",
   "execution_count": 65,
   "metadata": {},
   "outputs": [
    {
     "data": {
      "text/plain": [
       "[[2, 7, 6], [9, 1, 5]]"
      ]
     },
     "execution_count": 65,
     "metadata": {},
     "output_type": "execute_result"
    }
   ],
   "source": [
    "user_record"
   ]
  },
  {
   "cell_type": "code",
   "execution_count": 66,
   "metadata": {},
   "outputs": [
    {
     "data": {
      "text/plain": [
       "[3, 4, 8]"
      ]
     },
     "execution_count": 66,
     "metadata": {},
     "output_type": "execute_result"
    }
   ],
   "source": [
    "available_pos_label"
   ]
  },
  {
   "cell_type": "code",
   "execution_count": 72,
   "metadata": {},
   "outputs": [
    {
     "name": "stdout",
     "output_type": "stream",
     "text": [
      "\u001b[1mX\u001b[0;0m\n"
     ]
    }
   ],
   "source": [
    "print('\\033[1mX\\033[0;0m')"
   ]
  },
  {
   "cell_type": "code",
   "execution_count": 73,
   "metadata": {},
   "outputs": [
    {
     "data": {
      "text/plain": [
       "2"
      ]
     },
     "execution_count": 73,
     "metadata": {},
     "output_type": "execute_result"
    }
   ],
   "source": [
    "len('O ')"
   ]
  },
  {
   "cell_type": "code",
   "execution_count": 74,
   "metadata": {},
   "outputs": [
    {
     "data": {
      "text/plain": [
       "'🤔'"
      ]
     },
     "execution_count": 74,
     "metadata": {},
     "output_type": "execute_result"
    }
   ],
   "source": [
    "u'\\U0001f914'"
   ]
  },
  {
   "cell_type": "code",
   "execution_count": 82,
   "metadata": {},
   "outputs": [
    {
     "data": {
      "text/plain": [
       "4"
      ]
     },
     "execution_count": 82,
     "metadata": {},
     "output_type": "execute_result"
    }
   ],
   "source": [
    "s = '🤔'.encode('utf-8')\n",
    "#s = '/'.encode('utf-8')\n",
    "len(s)"
   ]
  },
  {
   "cell_type": "markdown",
   "metadata": {},
   "source": [
    "# Legacy"
   ]
  },
  {
   "cell_type": "code",
   "execution_count": 79,
   "metadata": {},
   "outputs": [
    {
     "name": "stdout",
     "output_type": "stream",
     "text": [
      "┌ - - - - - - - - - - - - - - - - - - - ┐\n",
      "|   |   |   |   |   |   |   |   |   |   |\n",
      "| - + - + - + - + - + - + - + - + - + - |\n",
      "|   |   |   |   |   |   |   |   |   |   |\n",
      "| - + - + - + - + - + - + - + - + - + - |\n",
      "|   |   |   |   |   |   |   |   |   |   |\n",
      "| - + - + - + - + - + - + - + - + - + - |\n",
      "|   |   |   |   |   |   |   |   |   |   |\n",
      "| - + - + - + - + - + - + - + - + - + - |\n",
      "|   |   |   |   |   |   |   |   |   |   |\n",
      "| - + - + - + - + - + - + - + - + - + - |\n",
      "|   |   |   |   |   |   |   |   |   |   |\n",
      "| - + - + - + - + - + - + - + - + - + - |\n",
      "|   |   |   |   |   |   |   |   |   |   |\n",
      "| - + - + - + - + - + - + - + - + - + - |\n",
      "|   |   |   |   |   |   |   |   |   |   |\n",
      "| - + - + - + - + - + - + - + - + - + - |\n",
      "|   |   |   |   |   |   |   |   |   |   |\n",
      "| - + - + - + - + - + - + - + - + - + - |\n",
      "|   |   |   |   |   |   |   |   |   |   |\n",
      "└ - - - - - - - - - - - - - - - - - - - ┘\n",
      "\n"
     ]
    }
   ],
   "source": [
    "# display function\n",
    "def build_empty_field_v0(field_size):\n",
    "      \"\"\"Generates a grid of the given size\"\"\"\n",
    "      row_up = \"┌ - \" + \"- - \" * (field_size - 2) + \"- - ┐\" + \"\\n\" \\\n",
    "            + \"|   \" + \"|   \" * (field_size - 2) + \"|   |\" + \"\\n\" \\\n",
    "            + \"| - \" + \"+ - \" * (field_size - 2) + \"+ - |\" + \"\\n\" \n",
    "      row_mid = \\\n",
    "            \"|   \" + \"|   \" * (field_size - 2) + \"|   |\" + \"\\n\" \\\n",
    "            + \"| - \" + \"+ - \" * (field_size - 2) + \"+ - |\" + \"\\n\" \n",
    "      row_bot = \\\n",
    "            \"|   \" + \"|   \" * (field_size - 2) + \"|   |\" + \"\\n\" \\\n",
    "            + \"└ - \" + \"- - \" * (field_size - 2) + \"- - ┘\" + \"\\n\" \n",
    "\n",
    "      field = row_up + row_mid*(field_size-2) + row_bot\n",
    "      return field\n",
    "\n",
    "# Demo\n",
    "field = build_empty_field_v0(field_size)        \n",
    "print(field)"
   ]
  },
  {
   "cell_type": "code",
   "execution_count": 71,
   "metadata": {},
   "outputs": [
    {
     "data": {
      "text/plain": [
       "1024"
      ]
     },
     "execution_count": 71,
     "metadata": {},
     "output_type": "execute_result"
    }
   ],
   "source": [
    "32**2"
   ]
  },
  {
   "cell_type": "code",
   "execution_count": 1,
   "metadata": {},
   "outputs": [
    {
     "data": {
      "text/plain": [
       "[[1, 2, 3],\n",
       " [1, 4, 7],\n",
       " [4, 5, 6],\n",
       " [2, 5, 8],\n",
       " [7, 8, 9],\n",
       " [3, 6, 9],\n",
       " [1, 5, 9],\n",
       " [3, 5, 7]]"
      ]
     },
     "execution_count": 1,
     "metadata": {},
     "output_type": "execute_result"
    }
   ],
   "source": [
    "field_size = 3\n",
    "win_line = []\n",
    "for i in range(field_size):\n",
    "    win_line.append([1+x+i*field_size for x in range(field_size)]) # row\n",
    "    win_line.append([1+x*field_size+i for x in range(field_size)]) # col\n",
    "win_line.append([1+x*field_size+x for x in range(field_size)]) # diag 1\n",
    "win_line.append([(1+x)*field_size-x for x in range(field_size)]) # diag 2\n",
    "\n",
    "win_line"
   ]
  },
  {
   "cell_type": "markdown",
   "metadata": {},
   "source": []
  }
 ],
 "metadata": {
  "kernelspec": {
   "display_name": ".venv",
   "language": "python",
   "name": "python3"
  },
  "language_info": {
   "codemirror_mode": {
    "name": "ipython",
    "version": 3
   },
   "file_extension": ".py",
   "mimetype": "text/x-python",
   "name": "python",
   "nbconvert_exporter": "python",
   "pygments_lexer": "ipython3",
   "version": "3.11.3"
  }
 },
 "nbformat": 4,
 "nbformat_minor": 2
}
